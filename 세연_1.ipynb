{
 "cells": [
  {
   "cell_type": "code",
   "execution_count": null,
   "metadata": {},
   "outputs": [],
   "source": [
    "#Library Imports\n",
    "import numpy as np\n",
    "import pandas as pd\n",
    "import math\n",
    "import os\n",
    "import matplotlib.pyplot as plt\n",
    "import seaborn as sns\n",
    "\n",
    "from sklearn.metrics import mean_absolute_error\n",
    "from lightgbm import LGBMRegressor\n",
    "from sklearn.model_selection import KFold"
   ]
  },
  {
   "cell_type": "code",
   "execution_count": null,
   "metadata": {},
   "outputs": [],
   "source": [
    "train=pd.read_csv('train.csv', encoding='ANSI')\n",
    "test=pd.read_csv('test.csv', encoding=\"ANSI\")\n",
    "submission=pd.read_csv('sample_submission.csv', encoding=\"ANSI\")"
   ]
  },
  {
   "cell_type": "code",
   "execution_count": null,
   "metadata": {},
   "outputs": [],
   "source": [
    "#train.shape 122400 X 10\n",
    "#60개의 건물 X 85일 24시간 =122400\n",
    "train"
   ]
  },
  {
   "cell_type": "markdown",
   "metadata": {},
   "source": [
    "# Train data EDA"
   ]
  },
  {
   "cell_type": "markdown",
   "metadata": {},
   "source": [
    "#### 건물별 독립변수들의 시간에 따른 변화 살펴보기"
   ]
  },
  {
   "cell_type": "code",
   "execution_count": null,
   "metadata": {},
   "outputs": [],
   "source": [
    "train['date_time_type']=list(map(pd.to_datetime,train['date_time']))"
   ]
  },
  {
   "cell_type": "code",
   "execution_count": null,
   "metadata": {},
   "outputs": [],
   "source": [
    "train"
   ]
  },
  {
   "cell_type": "markdown",
   "metadata": {},
   "source": [
    "##### 전력사용량 변화"
   ]
  },
  {
   "cell_type": "code",
   "execution_count": null,
   "metadata": {},
   "outputs": [],
   "source": [
    "#한글 폰트 깨짐 방지\n",
    "from matplotlib import font_manager, rc\n",
    "\n",
    "font_name = font_manager.FontProperties(fname=\"c:/Windows/Fonts/malgun.ttf\").get_name()\n",
    "rc('font', family=font_name)"
   ]
  },
  {
   "cell_type": "code",
   "execution_count": null,
   "metadata": {
    "scrolled": true
   },
   "outputs": [],
   "source": [
    "grouped = train[['date_time_type','num', '전력사용량(kWh)']].groupby('num')\n",
    "for index, i in enumerate(grouped,1):\n",
    "    i[1].set_index('date_time_type', inplace=True)\n",
    "    df = pd.DataFrame(i[1], index= i[1].index, columns=['전력사용량(kWh)'])\n",
    "    \n",
    "    plt.figure()\n",
    "    df.plot()\n",
    "    plt.title(index)\n",
    "\n"
   ]
  },
  {
   "cell_type": "code",
   "execution_count": null,
   "metadata": {},
   "outputs": [],
   "source": [
    "##insight: 주말이 있는 회사가 있고 없는 회사가 있음. 카테고리로 분류하면 좋을 듯?"
   ]
  },
  {
   "cell_type": "markdown",
   "metadata": {},
   "source": [
    "##### 기온변화"
   ]
  },
  {
   "cell_type": "code",
   "execution_count": null,
   "metadata": {
    "scrolled": true
   },
   "outputs": [],
   "source": [
    "grouped = train[['date_time_type','num', '기온(°C)']].groupby('num')\n",
    "for index, i in enumerate(grouped,1):\n",
    "    i[1].set_index('date_time_type', inplace=True)\n",
    "    df = pd.DataFrame(i[1], index= i[1].index, columns=['기온(°C)'])\n",
    "    \n",
    "    plt.figure()\n",
    "    df.plot()\n",
    "    plt.title(index)\n",
    "\n"
   ]
  },
  {
   "cell_type": "markdown",
   "metadata": {},
   "source": [
    "##### 풍속변화"
   ]
  },
  {
   "cell_type": "code",
   "execution_count": null,
   "metadata": {
    "scrolled": true
   },
   "outputs": [],
   "source": [
    "grouped = train[['date_time_type','num', '풍속(m/s)']].groupby('num')\n",
    "for index, i in enumerate(grouped,1):\n",
    "    i[1].set_index('date_time_type', inplace=True)\n",
    "    df = pd.DataFrame(i[1], index= i[1].index, columns=['풍속(m/s)'])\n",
    "    \n",
    "    plt.figure()\n",
    "    df.plot()\n",
    "    plt.title(index)\n",
    "\n"
   ]
  },
  {
   "cell_type": "markdown",
   "metadata": {},
   "source": [
    "##### 습도 변화"
   ]
  },
  {
   "cell_type": "code",
   "execution_count": null,
   "metadata": {
    "scrolled": true
   },
   "outputs": [],
   "source": [
    "grouped = train[['date_time_type','num', '습도(%)']].groupby('num')\n",
    "for index, i in enumerate(grouped,1):\n",
    "    i[1].set_index('date_time_type', inplace=True)\n",
    "    df = pd.DataFrame(i[1], index= i[1].index, columns=['습도(%)'])\n",
    "    \n",
    "    plt.figure()\n",
    "    df.plot()\n",
    "    plt.title(index)"
   ]
  },
  {
   "cell_type": "markdown",
   "metadata": {},
   "source": [
    "##### 강수량 변화"
   ]
  },
  {
   "cell_type": "code",
   "execution_count": null,
   "metadata": {
    "scrolled": true
   },
   "outputs": [],
   "source": [
    "grouped = train[['date_time_type','num', '강수량(mm)']].groupby('num')\n",
    "for index, i in enumerate(grouped,1):\n",
    "    i[1].set_index('date_time_type', inplace=True)\n",
    "    df = pd.DataFrame(i[1], index= i[1].index, columns=['강수량(mm)'])\n",
    "    \n",
    "    plt.figure()\n",
    "    df.plot()\n",
    "    plt.title(index)\n",
    "\n"
   ]
  },
  {
   "cell_type": "markdown",
   "metadata": {},
   "source": [
    "##### 일조량 변화"
   ]
  },
  {
   "cell_type": "code",
   "execution_count": null,
   "metadata": {
    "scrolled": true
   },
   "outputs": [],
   "source": [
    "grouped = train[['date_time_type','num', '일조(hr)']].groupby('num')\n",
    "for index, i in enumerate(grouped,1):\n",
    "    i[1].set_index('date_time_type', inplace=True)\n",
    "    df = pd.DataFrame(i[1], index= i[1].index, columns=['일조(hr)'])\n",
    "    \n",
    "    plt.figure()\n",
    "    df.plot()\n",
    "    plt.title(index)\n"
   ]
  },
  {
   "cell_type": "markdown",
   "metadata": {},
   "source": [
    "#### 데이터 살펴보기"
   ]
  },
  {
   "cell_type": "code",
   "execution_count": null,
   "metadata": {},
   "outputs": [],
   "source": [
    "train.head(30)"
   ]
  },
  {
   "cell_type": "code",
   "execution_count": null,
   "metadata": {},
   "outputs": [],
   "source": [
    "train.info()"
   ]
  },
  {
   "cell_type": "code",
   "execution_count": null,
   "metadata": {},
   "outputs": [],
   "source": [
    "test.info()"
   ]
  },
  {
   "cell_type": "markdown",
   "metadata": {},
   "source": [
    "#### 건물별로 heatmap "
   ]
  },
  {
   "cell_type": "code",
   "execution_count": null,
   "metadata": {},
   "outputs": [],
   "source": [
    "train.columns"
   ]
  },
  {
   "cell_type": "code",
   "execution_count": null,
   "metadata": {
    "scrolled": true
   },
   "outputs": [],
   "source": [
    "grouped = train[['date_time_type','num', '전력사용량(kWh)', '기온(°C)', '풍속(m/s)', '습도(%)',\n",
    "       '강수량(mm)', '일조(hr)']].groupby('num')\n",
    "for index, i in enumerate(grouped,1):\n",
    "    i[1].set_index('date_time_type', inplace=True)\n",
    "    df = pd.DataFrame(i[1], index= i[1].index, columns=['전력사용량(kWh)', '기온(°C)', '풍속(m/s)', '습도(%)',\n",
    "       '강수량(mm)', '일조(hr)'])\n",
    "    \n",
    "    ax = plt.axes()\n",
    "    sns.heatmap(df.corr(), annot=True, cmap='YlOrRd')\n",
    "    ax.set_title(index)\n",
    "    plt.show()\n",
    "    \n",
    "\n",
    "\n",
    "\n"
   ]
  },
  {
   "cell_type": "markdown",
   "metadata": {},
   "source": [
    "#### 건물별로 scatter plot"
   ]
  },
  {
   "cell_type": "code",
   "execution_count": null,
   "metadata": {},
   "outputs": [],
   "source": [
    "import matplotlib.pyplot as plt\n"
   ]
  },
  {
   "cell_type": "code",
   "execution_count": null,
   "metadata": {
    "scrolled": true
   },
   "outputs": [],
   "source": [
    "grouped = train[['date_time_type','num', '전력사용량(kWh)', '기온(°C)', '풍속(m/s)', '습도(%)',\n",
    "       '강수량(mm)', '일조(hr)']].groupby('num')\n",
    "for index, i in enumerate(grouped,1):\n",
    "    i[1].set_index('date_time_type', inplace=True)\n",
    "    df = pd.DataFrame(i[1], index= i[1].index, columns=['num','전력사용량(kWh)', '기온(°C)', '풍속(m/s)', '습도(%)',\n",
    "       '강수량(mm)', '일조(hr)'])\n",
    "    sns.pairplot(df).set_title(index)\n",
    "    plt.show()\n",
    "\n",
    "    \n",
    "    \n",
    "\n",
    "\n"
   ]
  },
  {
   "cell_type": "code",
   "execution_count": null,
   "metadata": {},
   "outputs": [],
   "source": []
  },
  {
   "cell_type": "code",
   "execution_count": null,
   "metadata": {},
   "outputs": [],
   "source": []
  },
  {
   "cell_type": "code",
   "execution_count": null,
   "metadata": {},
   "outputs": [],
   "source": []
  },
  {
   "cell_type": "code",
   "execution_count": null,
   "metadata": {},
   "outputs": [],
   "source": []
  },
  {
   "cell_type": "code",
   "execution_count": null,
   "metadata": {},
   "outputs": [],
   "source": []
  },
  {
   "cell_type": "code",
   "execution_count": null,
   "metadata": {},
   "outputs": [],
   "source": [
    "#test.shape 10080 X 9\n",
    "#60개의 건물 X 7일 24시간 =10080\n",
    "test"
   ]
  },
  {
   "cell_type": "markdown",
   "metadata": {},
   "source": [
    "# **데이터 전처리**"
   ]
  },
  {
   "cell_type": "code",
   "execution_count": null,
   "metadata": {},
   "outputs": [],
   "source": [
    "#건물별로 '비전기냉방설비운영'과 '태양광보유'를 판단해 test set의 결측치를 보간해줍니다\n",
    "train[['num', '비전기냉방설비운영','태양광보유']]\n",
    "ice={}\n",
    "hot={}\n",
    "count=0\n",
    "for i in range(0, len(train), len(train)//60):\n",
    "    count +=1\n",
    "    ice[count]=train.loc[i,'비전기냉방설비운영']\n",
    "    hot[count]=train.loc[i,'태양광보유']\n",
    "    "
   ]
  },
  {
   "cell_type": "code",
   "execution_count": null,
   "metadata": {},
   "outputs": [],
   "source": [
    "for i in range(len(test)):\n",
    "    test.loc[i, '비전기냉방설비운영']=ice[test['num'][i]]\n",
    "    test.loc[i, '태양광보유']=hot[test['num'][i]]"
   ]
  },
  {
   "cell_type": "code",
   "execution_count": null,
   "metadata": {},
   "outputs": [],
   "source": [
    "#날짜에서 월일시간추출\n",
    "def time(x):\n",
    "    return int(x[-2:])\n",
    "\n",
    "train['month']=train['date_time_type'].apply(lambda x: x.month)\n",
    "train['day']=train['date_time_type'].apply(lambda x: x.day)\n",
    "train['time']=train['date_time'].apply(lambda x: time(x))"
   ]
  },
  {
   "cell_type": "code",
   "execution_count": null,
   "metadata": {},
   "outputs": [],
   "source": [
    "train"
   ]
  },
  {
   "cell_type": "code",
   "execution_count": null,
   "metadata": {},
   "outputs": [],
   "source": [
    "#건물별로 시간별 일조량 변화 살펴보기(groupby 월일로 해서 시간별 변화를 한 plot에 겹쳐서 그려보기)"
   ]
  },
  {
   "cell_type": "code",
   "execution_count": null,
   "metadata": {},
   "outputs": [],
   "source": [
    "train.columns"
   ]
  },
  {
   "cell_type": "code",
   "execution_count": null,
   "metadata": {},
   "outputs": [],
   "source": [
    "grouped = train[['month','day', 'time','일조(hr)','num']].groupby('num')\n",
    "for index, i in enumerate(grouped,1):\n",
    "    i[1].set_index(['month','day'], inplace=True)\n",
    "    df = pd.DataFrame(i[1], index= i[1].index, columns=['time','일조(hr)'])\n",
    "    grouped2=df.groupby(df.index)\n",
    "    \n",
    "    fig = plt.figure()\n",
    "    ax = fig.add_subplot() \n",
    "    for j in grouped2:\n",
    "        \n",
    "        j[1].set_index(['time'], inplace=True)\n",
    "        df2=pd.DataFrame(j[1], index=j[1].index, columns=['일조(hr)'])\n",
    "        \n",
    "        ax.plot(df2.index, df2['일조(hr)'])\n",
    "        #plt.xlim(0,18000)\n",
    "        #plt.ylim(0,30)\n",
    "    plt.title(index)    \n",
    "    plt.show()"
   ]
  },
  {
   "cell_type": "code",
   "execution_count": null,
   "metadata": {},
   "outputs": [],
   "source": [
    "#건물별로 시간별 전력량 변화 살펴보기(groupby 월일로 해서 시간별 변화를 한 plot에 겹쳐서 그려보기)"
   ]
  },
  {
   "cell_type": "code",
   "execution_count": null,
   "metadata": {},
   "outputs": [],
   "source": [
    "train.columns"
   ]
  },
  {
   "cell_type": "code",
   "execution_count": null,
   "metadata": {},
   "outputs": [],
   "source": [
    "grouped = train[['month','day', 'time','전력사용량(kWh)','num']].groupby('num')\n",
    "for index, i in enumerate(grouped,1):\n",
    "    i[1].set_index(['month','day'], inplace=True)\n",
    "    df = pd.DataFrame(i[1], index= i[1].index, columns=['time','전력사용량(kWh)'])\n",
    "    grouped2=df.groupby(df.index)\n",
    "    \n",
    "    fig = plt.figure()\n",
    "    ax = fig.add_subplot() \n",
    "    for j in grouped2:\n",
    "        \n",
    "        j[1].set_index(['time'], inplace=True)\n",
    "        df2=pd.DataFrame(j[1], index=j[1].index, columns=['전력사용량(kWh)'])\n",
    "        \n",
    "        ax.plot(df2.index, df2['전력사용량(kWh)'])\n",
    "        \n",
    "        #plt.xlim(0,18000)\n",
    "        #plt.ylim(0,30)\n",
    "    \n",
    "    plt.title(index)    \n",
    "    plt.show()"
   ]
  },
  {
   "cell_type": "code",
   "execution_count": null,
   "metadata": {},
   "outputs": [],
   "source": [
    "## insight: 각 회사별로 기온에 따른 전력 사용량의 변화를 regression으로 구해서 그\n",
    "##기울기를 독립변수로 추가해서 회사별 기온에 따른 예민도를 측정"
   ]
  },
  {
   "cell_type": "code",
   "execution_count": null,
   "metadata": {},
   "outputs": [],
   "source": []
  },
  {
   "cell_type": "code",
   "execution_count": null,
   "metadata": {},
   "outputs": [],
   "source": [
    "#시간과 전력사용량 간 상관관계 보기"
   ]
  },
  {
   "cell_type": "code",
   "execution_count": null,
   "metadata": {},
   "outputs": [],
   "source": [
    "# grouped = train[['date_time_type','num', '전력사용량(kWh)', '기온(°C)', '풍속(m/s)', '습도(%)',\n",
    "#        '강수량(mm)', '일조(hr)']].groupby('num')\n",
    "# for index, i in enumerate(grouped,1):\n",
    "#     i[1].set_index('date_time_type', inplace=True)\n",
    "#     df = pd.DataFrame(i[1], index= i[1].index, columns=['전력사용량(kWh)', '기온(°C)', '풍속(m/s)', '습도(%)',\n",
    "#        '강수량(mm)', '일조(hr)'])\n",
    "    \n",
    "#     ax = plt.axes()\n",
    "#     sns.heatmap(df.corr(), annot=True, cmap='YlOrRd')\n",
    "#     ax.set_title(index)\n",
    "#     plt.show()"
   ]
  },
  {
   "cell_type": "code",
   "execution_count": null,
   "metadata": {},
   "outputs": [],
   "source": []
  },
  {
   "cell_type": "code",
   "execution_count": null,
   "metadata": {},
   "outputs": [],
   "source": []
  },
  {
   "cell_type": "code",
   "execution_count": null,
   "metadata": {},
   "outputs": [],
   "source": []
  },
  {
   "cell_type": "code",
   "execution_count": null,
   "metadata": {},
   "outputs": [],
   "source": []
  },
  {
   "cell_type": "code",
   "execution_count": null,
   "metadata": {},
   "outputs": [],
   "source": [
    "#시간 변수와 요일 변수를 추가해봅니다.\n",
    "def time(x):\n",
    "    return int(x[-2:])\n",
    "train['time']=train['date_time'].apply(lambda x: time(x))\n",
    "test['time']=test['date_time'].apply(lambda x: time(x))\n",
    "\n",
    "def weekday(x):\n",
    "    return pd.to_datetime(x[:10]).weekday()\n",
    "train['weekday']=train['date_time'].apply(lambda x :weekday(x))\n",
    "test['weekday']=test['date_time'].apply(lambda x :weekday(x))"
   ]
  },
  {
   "cell_type": "markdown",
   "metadata": {},
   "source": [
    "#### 기온과 가장 상관관계가 높은 일조량으로 기온을 예측해서 test data의 결측치 보간"
   ]
  },
  {
   "cell_type": "code",
   "execution_count": null,
   "metadata": {},
   "outputs": [],
   "source": [
    "test.info()"
   ]
  },
  {
   "cell_type": "code",
   "execution_count": null,
   "metadata": {},
   "outputs": [],
   "source": []
  },
  {
   "cell_type": "code",
   "execution_count": null,
   "metadata": {},
   "outputs": [],
   "source": []
  },
  {
   "cell_type": "code",
   "execution_count": null,
   "metadata": {},
   "outputs": [],
   "source": []
  },
  {
   "cell_type": "code",
   "execution_count": null,
   "metadata": {},
   "outputs": [],
   "source": []
  },
  {
   "cell_type": "code",
   "execution_count": null,
   "metadata": {},
   "outputs": [],
   "source": [
    "model=LGBMRegressor(n_estimators=100)\n",
    "model.fit(X_train, y_train, eval_set=[(X_train, y_train), (X_valid, y_valid)], \n",
    "         early_stopping_rounds=30, verbose=100)"
   ]
  },
  {
   "cell_type": "code",
   "execution_count": null,
   "metadata": {},
   "outputs": [],
   "source": []
  },
  {
   "cell_type": "code",
   "execution_count": null,
   "metadata": {},
   "outputs": [],
   "source": []
  },
  {
   "cell_type": "code",
   "execution_count": null,
   "metadata": {},
   "outputs": [],
   "source": []
  },
  {
   "cell_type": "code",
   "execution_count": null,
   "metadata": {},
   "outputs": [],
   "source": []
  },
  {
   "cell_type": "code",
   "execution_count": null,
   "metadata": {},
   "outputs": [],
   "source": []
  },
  {
   "cell_type": "markdown",
   "metadata": {},
   "source": [
    "+ test 결측치 보간해줍니다.\n",
    "+ test 데이터의 변수는 예보 데이터이며, 예보 데이터는 train 데이터의 기간에 생성된 것이기에 활용 가능합니다."
   ]
  },
  {
   "cell_type": "code",
   "execution_count": null,
   "metadata": {},
   "outputs": [],
   "source": [
    "test = test.interpolate(method='values')"
   ]
  },
  {
   "cell_type": "markdown",
   "metadata": {},
   "source": [
    "# **모델링**"
   ]
  },
  {
   "cell_type": "code",
   "execution_count": null,
   "metadata": {},
   "outputs": [],
   "source": [
    "train_x=train.drop('전력사용량(kWh)', axis=1)\n",
    "train_y=train[['전력사용량(kWh)']]"
   ]
  },
  {
   "cell_type": "code",
   "execution_count": null,
   "metadata": {},
   "outputs": [],
   "source": [
    "train_x.drop('date_time', axis=1, inplace=True)\n",
    "test.drop('date_time', axis=1, inplace=True)"
   ]
  },
  {
   "cell_type": "code",
   "execution_count": null,
   "metadata": {},
   "outputs": [],
   "source": [
    "cross=KFold(n_splits=5, shuffle=True, random_state=1)\n",
    "folds=[]\n",
    "for train_idx, valid_idx in cross.split(train_x, train_y):\n",
    "    folds.append((train_idx, valid_idx))"
   ]
  },
  {
   "cell_type": "code",
   "execution_count": null,
   "metadata": {},
   "outputs": [],
   "source": [
    "folds"
   ]
  },
  {
   "cell_type": "markdown",
   "metadata": {},
   "source": [
    "아래 코드는 최정명님의 코드 구성 방식을 살며시 활용했습니다. 감사합니다\n",
    "\n",
    "https://www.dacon.io/competitions/official/235713/codeshare/2476?page=1&dtype=recent\n"
   ]
  },
  {
   "cell_type": "code",
   "execution_count": null,
   "metadata": {},
   "outputs": [],
   "source": [
    "models={}\n",
    "for fold in range(5):\n",
    "    print(f'===================={fold+1}=======================')\n",
    "    train_idx, valid_idx=folds[fold]\n",
    "    X_train=train_x.iloc[train_idx, :]\n",
    "    y_train=train_y.iloc[train_idx, :]\n",
    "    X_valid=train_x.iloc[valid_idx, :]\n",
    "    y_valid=train_y.iloc[valid_idx, :]\n",
    "    \n",
    "    model=LGBMRegressor(n_estimators=100)\n",
    "    model.fit(X_train, y_train, eval_set=[(X_train, y_train), (X_valid, y_valid)], \n",
    "             early_stopping_rounds=30, verbose=100)\n",
    "    models[fold]=model\n",
    "    \n",
    "    print(f'================================================\\n\\n')"
   ]
  },
  {
   "cell_type": "code",
   "execution_count": null,
   "metadata": {},
   "outputs": [],
   "source": [
    "for i in range(5):\n",
    "    submission['answer'] += models[i].predict(test)/5 "
   ]
  },
  {
   "cell_type": "code",
   "execution_count": null,
   "metadata": {},
   "outputs": [],
   "source": [
    "submission"
   ]
  },
  {
   "cell_type": "code",
   "execution_count": null,
   "metadata": {},
   "outputs": [],
   "source": [
    "#제출\n",
    "submission.to_csv('baseline_submission3.csv', index=False)"
   ]
  },
  {
   "cell_type": "code",
   "execution_count": null,
   "metadata": {},
   "outputs": [],
   "source": []
  }
 ],
 "metadata": {
  "kernelspec": {
   "display_name": "Python 3",
   "language": "python",
   "name": "python3"
  },
  "language_info": {
   "codemirror_mode": {
    "name": "ipython",
    "version": 3
   },
   "file_extension": ".py",
   "mimetype": "text/x-python",
   "name": "python",
   "nbconvert_exporter": "python",
   "pygments_lexer": "ipython3",
   "version": "3.8.5"
  }
 },
 "nbformat": 4,
 "nbformat_minor": 4
}
